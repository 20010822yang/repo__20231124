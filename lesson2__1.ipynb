{
 "cells": [
  {
   "cell_type": "code",
   "execution_count": 24,
   "metadata": {},
   "outputs": [
    {
     "name": "stdout",
     "output_type": "stream",
     "text": [
      "205 + 601.815 = 806.815\n"
     ]
    }
   ],
   "source": [
    "n = eval(input('n值'))\n",
    "m = eval(input('m值'))\n",
    "total =  n + m \n",
    "print( n ,'+', m ,'=',total) "
   ]
  },
  {
   "cell_type": "code",
   "execution_count": 31,
   "metadata": {},
   "outputs": [
    {
     "name": "stdout",
     "output_type": "stream",
     "text": [
      "20.52 + 19.479 = 40.0\n"
     ]
    }
   ],
   "source": [
    "n = eval(input('n值'))\n",
    "m = eval(input('m值'))\n",
    "total =  n + m \n",
    "print(f'{n} + {m} = {total:.1f}') "
   ]
  },
  {
   "cell_type": "code",
   "execution_count": 34,
   "metadata": {},
   "outputs": [
    {
     "name": "stdout",
     "output_type": "stream",
     "text": [
      "相加總合=100\n"
     ]
    }
   ],
   "source": [
    "total = 0\n",
    "value = eval(input('第一值:'))\n",
    "total = total + value\n",
    "\n",
    "value = eval(input('第二值:'))\n",
    "total = total + value\n",
    "\n",
    "value = eval(input('第二值:'))\n",
    "total = total + value\n",
    "print(f'相加總合={total}')"
   ]
  },
  {
   "cell_type": "code",
   "execution_count": 38,
   "metadata": {},
   "outputs": [
    {
     "name": "stdout",
     "output_type": "stream",
     "text": [
      "相加總合=15\n"
     ]
    }
   ],
   "source": [
    "total = 0\n",
    "value = eval(input('第一值:'))\n",
    "total += value\n",
    "\n",
    "value = eval(input('第二值:'))\n",
    "total += value\n",
    "\n",
    "value = eval(input('第二值:'))\n",
    "total += value\n",
    "print(f'相加總合={total}')"
   ]
  },
  {
   "cell_type": "code",
   "execution_count": 52,
   "metadata": {},
   "outputs": [
    {
     "name": "stdout",
     "output_type": "stream",
     "text": [
      "斜邊為2,對邊為1\n",
      "角度為30.00\n"
     ]
    }
   ],
   "source": [
    "import math        # 匯入 math 程式工具箱\n",
    "long = eval(input('請輸入斜邊值'))\n",
    "short = eval(input('請輸入對邊值'))\n",
    "\n",
    "radian = math.asin(short/long)  # math.asin 會傳出徑度(radian) \n",
    "angel = math.degrees(radian)    # math.degrees(x) 會傳出角度\n",
    "print(f'斜邊為{long},對邊為{short}')\n",
    "print(f'角度為{angel:.2f}')      #   :.2f "
   ]
  }
 ],
 "metadata": {
  "kernelspec": {
   "display_name": "Python 3",
   "language": "python",
   "name": "python3"
  },
  "language_info": {
   "codemirror_mode": {
    "name": "ipython",
    "version": 3
   },
   "file_extension": ".py",
   "mimetype": "text/x-python",
   "name": "python",
   "nbconvert_exporter": "python",
   "pygments_lexer": "ipython3",
   "version": "3.10.13"
  }
 },
 "nbformat": 4,
 "nbformat_minor": 2
}
