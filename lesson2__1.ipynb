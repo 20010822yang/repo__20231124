{
 "cells": [
  {
   "cell_type": "code",
   "execution_count": 24,
   "metadata": {},
   "outputs": [
    {
     "name": "stdout",
     "output_type": "stream",
     "text": [
      "205 + 601.815 = 806.815\n"
     ]
    }
   ],
   "source": [
    "n = eval(input('n值'))\n",
    "m = eval(input('m值'))\n",
    "total =  n + m \n",
    "print( n ,'+', m ,'=',total) "
   ]
  },
  {
   "cell_type": "code",
   "execution_count": 31,
   "metadata": {},
   "outputs": [
    {
     "name": "stdout",
     "output_type": "stream",
     "text": [
      "20.52 + 19.479 = 40.0\n"
     ]
    }
   ],
   "source": [
    "n = eval(input('n值'))\n",
    "m = eval(input('m值'))\n",
    "total =  n + m \n",
    "print(f'{n} + {m} = {total:.1f}') "
   ]
  },
  {
   "cell_type": "code",
   "execution_count": 34,
   "metadata": {},
   "outputs": [
    {
     "name": "stdout",
     "output_type": "stream",
     "text": [
      "相加總合=100\n"
     ]
    }
   ],
   "source": [
    "total = 0\n",
    "value = eval(input('第一值:'))\n",
    "total = total + value\n",
    "\n",
    "value = eval(input('第二值:'))\n",
    "total = total + value\n",
    "\n",
    "value = eval(input('第二值:'))\n",
    "total = total + value\n",
    "print(f'相加總合={total}')"
   ]
  },
  {
   "cell_type": "code",
   "execution_count": 38,
   "metadata": {},
   "outputs": [
    {
     "name": "stdout",
     "output_type": "stream",
     "text": [
      "相加總合=15\n"
     ]
    }
   ],
   "source": [
    "total = 0\n",
    "value = eval(input('第一值:'))\n",
    "total += value\n",
    "\n",
    "value = eval(input('第二值:'))\n",
    "total += value\n",
    "\n",
    "value = eval(input('第二值:'))\n",
    "total += value\n",
    "print(f'相加總合={total}')"
   ]
  },
  {
   "cell_type": "code",
   "execution_count": 52,
   "metadata": {},
   "outputs": [
    {
     "name": "stdout",
     "output_type": "stream",
     "text": [
      "斜邊為2,對邊為1\n",
      "角度為30.00\n"
     ]
    }
   ],
   "source": [
    "import math        # 匯入 math 程式工具箱\n",
    "long = eval(input('請輸入斜邊值'))\n",
    "short = eval(input('請輸入對邊值'))\n",
    "\n",
    "radian = math.asin(short/long)  # math.asin 會傳出徑度(radian) \n",
    "angel = math.degrees(radian)    # math.degrees(x) 會傳出角度\n",
    "print(f'斜邊為{long},對邊為{short}')\n",
    "print(f'角度為{angel:.2f}')      #   :.2f "
   ]
  },
  {
   "cell_type": "code",
   "execution_count": 1,
   "metadata": {},
   "outputs": [
    {
     "data": {
      "text/plain": [
       "7.0"
      ]
     },
     "execution_count": 1,
     "metadata": {},
     "output_type": "execute_result"
    }
   ],
   "source": [
    "value1 = 0\n",
    "value1 += 0\n",
    "value1 += 5\n",
    "value1 += 9\n",
    "value1 += 14\n",
    "value1 / 4"
   ]
  },
  {
   "cell_type": "code",
   "execution_count": 2,
   "metadata": {},
   "outputs": [
    {
     "data": {
      "text/plain": [
       "7.0"
      ]
     },
     "execution_count": 2,
     "metadata": {},
     "output_type": "execute_result"
    }
   ],
   "source": [
    "value2 = 0\n",
    "value2 += 5\n",
    "value2 += 6\n",
    "value2 += 8\n",
    "value2 += 9\n",
    "value2 / 4"
   ]
  },
  {
   "cell_type": "code",
   "execution_count": 22,
   "metadata": {},
   "outputs": [
    {
     "name": "stdout",
     "output_type": "stream",
     "text": [
      "平均值1為:7\n",
      "標準差1為:5.9\n",
      "平均值2為:7\n",
      "標準差2為:1.8257418583505538\n"
     ]
    }
   ],
   "source": [
    "import statistics  #匯入統計工具箱\n",
    "平均值1 = statistics.mean({0,5,9,14}) #statistics.mean 平均\n",
    "標準差1 = statistics.stdev({0,5,9,14}) #statistics.stdev 標準差\n",
    "print(f'平均值1為:{平均值1}')\n",
    "print(f'標準差1為:{標準差1:.1f}')\n",
    "\n",
    "平均值2 = statistics.mean({5,6,8,9})\n",
    "標準差2 = statistics.stdev({5,6,8,9})\n",
    "print(f'平均值2為:{平均值2}')\n",
    "print(f'標準差2為:{標準差2}')"
   ]
  },
  {
   "cell_type": "code",
   "execution_count": 3,
   "metadata": {},
   "outputs": [
    {
     "name": "stdout",
     "output_type": "stream",
     "text": [
      "{True} {False} {True} {True} {True} {True}\n"
     ]
    }
   ],
   "source": [
    "#比較運算子 # > 為判斷前面的運算元是否大於後者. 是的話會得出true , 否的話則會得出false\n",
    "           # < 為判斷前面的運算元是否小於後者. 是的話會得出true , 否的話則會得出false\n",
    "           # <= 為判斷前面的運算元是否小於等於後者. 是的話會得出true , 否的話則會得出false\n",
    "           # >= 為判斷前面的運算元是否大於等於後者. 是的話會得出true , 否的話則會得出false\n",
    "           # == 為判斷前面的運算元是否等於後者. 是的話會得出true , 否的話則會得出false\n",
    "           # != 為判斷前面的運算元是否不等於後者. 是的話會得出true , 否的話則會得出false\n",
    "X1 = 3 < 5\n",
    "X2 = 3 > 5\n",
    "X3 = 3 <= 5\n",
    "X4 = 3 >= 3\n",
    "X5 = 3 == 3\n",
    "X6 = 3 != 5\n",
    "print({X1},{X2},{X3},{X4},{X5},{X6})  "
   ]
  },
  {
   "cell_type": "code",
   "execution_count": 5,
   "metadata": {},
   "outputs": [
    {
     "name": "stdout",
     "output_type": "stream",
     "text": [
      "A大於30\n",
      "end\n"
     ]
    }
   ],
   "source": [
    "A = 31\n",
    "if A > 30:            #當達到這個 A > 30時(true),執行下方程式\n",
    "    print('A大於30')  #注意縮排. \n",
    "print('end')          #因為這行不在if迴圈裏面,所以不管if成不成立,這行程式都會執行"
   ]
  },
  {
   "cell_type": "code",
   "execution_count": 9,
   "metadata": {},
   "outputs": [
    {
     "name": "stdout",
     "output_type": "stream",
     "text": [
      "你的價格低於99\n"
     ]
    }
   ],
   "source": [
    "price = eval(input('請輸入價格x:'))\n",
    "if price >= 99:\n",
    "    print('你的價格已經高達99')\n",
    "    print(f'你輸入的價格是{price}')\n",
    "else :\n",
    "    print('你的價格低於99')"
   ]
  },
  {
   "cell_type": "code",
   "execution_count": 27,
   "metadata": {},
   "outputs": [
    {
     "name": "stdout",
     "output_type": "stream",
     "text": [
      "這這個學生得分241.5\n",
      "四捨五入後得242\n"
     ]
    }
   ],
   "source": [
    "score = eval(input('輸入學生的分數:'))\n",
    "add = input('此學生是否能加分?(y , n)')\n",
    "if add == 'y':\n",
    "    score *= 1.05\n",
    "    print(f'這這個學生得分{score:.0f}')     # :.0f  將無條件進位\n",
    "    print(f'四捨五入後得{round(score)}')    # round() 將四捨五入\n",
    "else:\n",
    "    print(f'這個學生不能加分')"
   ]
  },
  {
   "cell_type": "code",
   "execution_count": 29,
   "metadata": {},
   "outputs": [
    {
     "name": "stdout",
     "output_type": "stream",
     "text": [
      "學生分數是300\n"
     ]
    }
   ],
   "source": [
    "#學生總分為300\n",
    "#要檢查學生輸入分數是<=300\n",
    "#有些學生可以加分5%\n",
    "#如果加分超過300,就以300分為準\n",
    "\n",
    "scores = int(input(\"請輸入學生分數(最高300分):\"))\n",
    "if scores <= 300:                                      # 當條件成立,才能執行if迴圈的程式\n",
    "    is_add = input(\"學生是否符合加分條件?(y,n)\")\n",
    "\n",
    "    if(is_add == \"y\"):                                 # 當條件成立,再往下執行回圈內程式\n",
    "        scores *= 1.05\n",
    "        if scores > 300:                               # 當條件成立,執行回圈內程式\n",
    "            scores = 300\n",
    "    print(f\"學生分數是{round(scores)}\")\n",
    "else:\n",
    "    print(\"學生分數不可以大於300\")\n",
    "\n",
    "#print(f\"學生分數是{scores:.0f}\")\n",
    "#print(f\"學生分數是{int(scores)}\")"
   ]
  },
  {
   "cell_type": "code",
   "execution_count": 13,
   "metadata": {},
   "outputs": [
    {
     "name": "stdout",
     "output_type": "stream",
     "text": [
      "請輸入學生分數(最高300分):Blank values are not allowed.\n",
      "請輸入學生分數(最高300分):Blank values are not allowed.\n",
      "請輸入學生分數(最高300分):Blank values are not allowed.\n",
      "請輸入學生分數(最高300分):"
     ]
    }
   ],
   "source": [
    "import pyinputplus as pyip  # 匯入工具箱並 as(簡寫)為pyip  需先從終端機下載\n",
    "\n",
    "scores = pyip.inputInt(\"請輸入學生分數(最高300分):\",min=0,max=300)  #pyip.inputInt \n",
    "print(scores)\n",
    "is_add = pyip.inputYesNo(\"學生是否符合加分條件?(y,n)\",yesVal='y',noVal='n',default='n',blank=True)\n",
    "print(is_add)\n",
    "if(is_add == \"y\"):\n",
    "    scores *= 1.05\n",
    "    if scores > 300:\n",
    "        scores = 300\n",
    "print(f\"學生分數是{round(scores)}\")\n"
   ]
  },
  {
   "cell_type": "code",
   "execution_count": 1,
   "metadata": {},
   "outputs": [
    {
     "name": "stdout",
     "output_type": "stream",
     "text": [
      "請輸入學生分數(1~100):50\n"
     ]
    }
   ],
   "source": [
    "import pyinputplus as pyip\n",
    "\n",
    "scores = pyip.inputInt(\"請輸入學生分數(1~100):\",max=100,min=0)\n",
    "print(scores)\n",
    "#多項選擇\n",
    "if scores >= 90:\n",
    "    print(\"優\")"
   ]
  },
  {
   "cell_type": "code",
   "execution_count": null,
   "metadata": {},
   "outputs": [],
   "source": [
    "import pyinputplus as pyip\n",
    "\n",
    "scores = pyip.inputInt(\"請輸入學生分數(1~100):\",max=100,min=0)\n",
    "print(scores)\n",
    "#多項選擇\n",
    "if scores >= 90:\n",
    "    print(\"優\")\n",
    "elif scores >= 80:\n",
    "    print(\"甲\")\n",
    "elif scores >= 70:\n",
    "    print(\"乙\")\n",
    "elif scores >= 60:\n",
    "    print(\"丙\")\n",
    "else:\n",
    "    print(\"丁\")"
   ]
  },
  {
   "cell_type": "code",
   "execution_count": 3,
   "metadata": {},
   "outputs": [
    {
     "name": "stdout",
     "output_type": "stream",
     "text": [
      "輸入購買金額:76500.0\n"
     ]
    }
   ],
   "source": [
    "#輸入顧客購買金額，若金額在\n",
    "#100000元打8折.\n",
    "#50000打85折.\n",
    "#30000打9折.\n",
    "#10000打95折.\n",
    "import pyinputplus as pyip\n",
    "total = pyip.inputInt('輸入購買金額:')\n",
    "if total >= 100000:\n",
    "    total *= 0.8\n",
    "    print(total)\n",
    "elif total >= 50000:\n",
    "    total *= 0.85\n",
    "    print(total)\n",
    "elif total >= 30000:\n",
    "    total *= 0.9\n",
    "    print(total)\n",
    "elif total >= 10000:\n",
    "    total *= 0.95\n",
    "    print(total)\n"
   ]
  },
  {
   "cell_type": "code",
   "execution_count": 12,
   "metadata": {},
   "outputs": [
    {
     "name": "stdout",
     "output_type": "stream",
     "text": [
      "成年\n"
     ]
    }
   ],
   "source": [
    "#not 運算子 not 只能搭配bool\n",
    "age = 18\n",
    "\n",
    "if not age >= 18:   # age >= 18 結果輸出為 True (bool)\n",
    "    print(\"未成年\")\n",
    "else:\n",
    "    print(\"成年\")\n",
    "    "
   ]
  },
  {
   "cell_type": "code",
   "execution_count": 20,
   "metadata": {},
   "outputs": [
    {
     "name": "stdout",
     "output_type": "stream",
     "text": [
      "國文分數:0\n",
      "數學分數:0\n",
      "沒有獎金\n"
     ]
    }
   ],
   "source": [
    "#國文分數100同時數學100,獎金1000\n",
    "#國文分數100或者數學100,獎金500\n",
    "#使用巢狀判斷\n",
    "import pyinputplus as pyip\n",
    "CHINESE= pyip.inputInt('國文分數:',min = 0, max = 100)\n",
    "print(CHINESE)\n",
    "MATH = pyip.inputInt('數學分數:',min = 0, max = 100)\n",
    "print(MATH)\n",
    "if CHINESE == 100:\n",
    "    if MATH == 100:\n",
    "        print('獎金1000')\n",
    "    else:\n",
    "        print('國文100,獎金500')\n",
    "elif MATH == 100:\n",
    "    print('數學100,獲得獎金500')\n",
    "else:\n",
    "    print('沒有獎金')"
   ]
  },
  {
   "cell_type": "code",
   "execution_count": null,
   "metadata": {},
   "outputs": [],
   "source": [
    "#1...10相加的加總\n",
    "#明確知道執行的次數\n",
    "value = 0\n",
    "for i in range(1,11):\n",
    "    value += i\n",
    "\n",
    "print(f\"1加10的加總是{value}\")"
   ]
  },
  {
   "cell_type": "code",
   "execution_count": 15,
   "metadata": {},
   "outputs": [
    {
     "name": "stdout",
     "output_type": "stream",
     "text": [
      "請輸入起始值:50\n",
      "請輸入結束值:50\n",
      "從50至50的加總是50\n"
     ]
    }
   ],
   "source": [
    "import pyinputplus as pyip\n",
    "\n",
    "start = pyip.inputInt('請輸入起始值:')\n",
    "print(start)\n",
    "end = pyip.inputInt(\"請輸入結束值:\")\n",
    "print(end)\n",
    "\n",
    "value = 0\n",
    "for i in range(start,end+1):\n",
    "    value += i\n",
    "\n",
    "print(f\"從{start}至{end}的加總是{value}\")"
   ]
  },
  {
   "cell_type": "code",
   "execution_count": 26,
   "metadata": {},
   "outputs": [
    {
     "name": "stdout",
     "output_type": "stream",
     "text": [
      "i = 1\n",
      " j = 1  j = 2  j = 3  j = 4  j = 5  j = 6  j = 7  j = 8  j = 9 \n",
      "i = 2\n",
      " j = 1  j = 2  j = 3  j = 4  j = 5  j = 6  j = 7  j = 8  j = 9 \n",
      "i = 3\n",
      " j = 1  j = 2  j = 3  j = 4  j = 5  j = 6  j = 7  j = 8  j = 9 \n",
      "i = 4\n",
      " j = 1  j = 2  j = 3  j = 4  j = 5  j = 6  j = 7  j = 8  j = 9 \n",
      "i = 5\n",
      " j = 1  j = 2  j = 3  j = 4  j = 5  j = 6  j = 7  j = 8  j = 9 \n",
      "i = 6\n",
      " j = 1  j = 2  j = 3  j = 4  j = 5  j = 6  j = 7  j = 8  j = 9 \n",
      "i = 7\n",
      " j = 1  j = 2  j = 3  j = 4  j = 5  j = 6  j = 7  j = 8  j = 9 \n",
      "i = 8\n",
      " j = 1  j = 2  j = 3  j = 4  j = 5  j = 6  j = 7  j = 8  j = 9 \n",
      "i = 9\n",
      " j = 1  j = 2  j = 3  j = 4  j = 5  j = 6  j = 7  j = 8  j = 9 \n"
     ]
    }
   ],
   "source": [
    "#巢狀迴圈\n",
    "for i in range(1,10):\n",
    "    print(f'i = {i}')\n",
    "    for j in range(1,10):\n",
    "        print(f' j = {j}',end = ' ')\n",
    "    print()\n",
    "    "
   ]
  },
  {
   "cell_type": "code",
   "execution_count": 43,
   "metadata": {},
   "outputs": [
    {
     "name": "stdout",
     "output_type": "stream",
     "text": [
      "1 * 1 = 1   1 * 2 = 2   1 * 3 = 3   1 * 4 = 4   1 * 5 = 5   1 * 6 = 6   1 * 7 = 7   1 * 8 = 8   1 * 9 = 9   \n",
      "2 * 1 = 2   2 * 2 = 4   2 * 3 = 6   2 * 4 = 8   2 * 5 =10   2 * 6 =12   2 * 7 =14   2 * 8 =16   2 * 9 =18   \n",
      "3 * 1 = 3   3 * 2 = 6   3 * 3 = 9   3 * 4 =12   3 * 5 =15   3 * 6 =18   3 * 7 =21   3 * 8 =24   3 * 9 =27   \n",
      "4 * 1 = 4   4 * 2 = 8   4 * 3 =12   4 * 4 =16   4 * 5 =20   4 * 6 =24   4 * 7 =28   4 * 8 =32   4 * 9 =36   \n",
      "5 * 1 = 5   5 * 2 =10   5 * 3 =15   5 * 4 =20   5 * 5 =25   5 * 6 =30   5 * 7 =35   5 * 8 =40   5 * 9 =45   \n",
      "6 * 1 = 6   6 * 2 =12   6 * 3 =18   6 * 4 =24   6 * 5 =30   6 * 6 =36   6 * 7 =42   6 * 8 =48   6 * 9 =54   \n",
      "7 * 1 = 7   7 * 2 =14   7 * 3 =21   7 * 4 =28   7 * 5 =35   7 * 6 =42   7 * 7 =49   7 * 8 =56   7 * 9 =63   \n",
      "8 * 1 = 8   8 * 2 =16   8 * 3 =24   8 * 4 =32   8 * 5 =40   8 * 6 =48   8 * 7 =56   8 * 8 =64   8 * 9 =72   \n",
      "9 * 1 = 9   9 * 2 =18   9 * 3 =27   9 * 4 =36   9 * 5 =45   9 * 6 =54   9 * 7 =63   9 * 8 =72   9 * 9 =81   \n"
     ]
    }
   ],
   "source": [
    "# 9x9乘法表\n",
    "for i in range(1,10):\n",
    "    for j in range(1,10):\n",
    "         print(f'{i:<2d}*{j:2d} ={i * j:2d}',end='   ')\n",
    "    print()"
   ]
  },
  {
   "cell_type": "code",
   "execution_count": null,
   "metadata": {},
   "outputs": [],
   "source": [
    "#小明想要存錢買一輛機車,機車每輛30000元，他將每月存的錢輸入，當存款足夠買機車時，就顯示提示訊息告知。\n",
    "import pyinputplus as pyip\n",
    "deposit = 0\n",
    "month = 0\n",
    "while deposit < 30000:\n",
    "    month += 1\n",
    "    money_month = pyip.inputInt(f\"請輸入第{month}月份存款:\")    \n",
    "    print(money_month)\n",
    "    deposit += money_month\n",
    "\n",
    "print(f\"恭喜!已經存夠了,共存了{month}月份,總存款為:{deposit}\")"
   ]
  },
  {
   "cell_type": "code",
   "execution_count": null,
   "metadata": {},
   "outputs": [],
   "source": [
    "#小明想要存錢買一輛機車,機車每輛30000元，他將每月存的錢輸入，當存款足夠買機車時，就顯示提示訊息告知。\n",
    "import pyinputplus as pyip\n",
    "total = 0\n",
    "while total < 30000:\n",
    "    "
   ]
  }
 ],
 "metadata": {
  "kernelspec": {
   "display_name": "Python 3",
   "language": "python",
   "name": "python3"
  },
  "language_info": {
   "codemirror_mode": {
    "name": "ipython",
    "version": 3
   },
   "file_extension": ".py",
   "mimetype": "text/x-python",
   "name": "python",
   "nbconvert_exporter": "python",
   "pygments_lexer": "ipython3",
   "version": "3.10.13"
  }
 },
 "nbformat": 4,
 "nbformat_minor": 2
}
