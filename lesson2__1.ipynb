{
 "cells": [
  {
   "cell_type": "code",
   "execution_count": 24,
   "metadata": {},
   "outputs": [
    {
     "name": "stdout",
     "output_type": "stream",
     "text": [
      "205 + 601.815 = 806.815\n"
     ]
    }
   ],
   "source": [
    "n = eval(input('n值'))\n",
    "m = eval(input('m值'))\n",
    "total =  n + m \n",
    "print( n ,'+', m ,'=',total) "
   ]
  },
  {
   "cell_type": "code",
   "execution_count": 31,
   "metadata": {},
   "outputs": [
    {
     "name": "stdout",
     "output_type": "stream",
     "text": [
      "20.52 + 19.479 = 40.0\n"
     ]
    }
   ],
   "source": [
    "n = eval(input('n值'))\n",
    "m = eval(input('m值'))\n",
    "total =  n + m \n",
    "print(f'{n} + {m} = {total:.1f}') "
   ]
  },
  {
   "cell_type": "code",
   "execution_count": 34,
   "metadata": {},
   "outputs": [
    {
     "name": "stdout",
     "output_type": "stream",
     "text": [
      "相加總合=100\n"
     ]
    }
   ],
   "source": [
    "total = 0\n",
    "value = eval(input('第一值:'))\n",
    "total = total + value\n",
    "\n",
    "value = eval(input('第二值:'))\n",
    "total = total + value\n",
    "\n",
    "value = eval(input('第二值:'))\n",
    "total = total + value\n",
    "print(f'相加總合={total}')"
   ]
  },
  {
   "cell_type": "code",
   "execution_count": 38,
   "metadata": {},
   "outputs": [
    {
     "name": "stdout",
     "output_type": "stream",
     "text": [
      "相加總合=15\n"
     ]
    }
   ],
   "source": [
    "total = 0\n",
    "value = eval(input('第一值:'))\n",
    "total += value\n",
    "\n",
    "value = eval(input('第二值:'))\n",
    "total += value\n",
    "\n",
    "value = eval(input('第二值:'))\n",
    "total += value\n",
    "print(f'相加總合={total}')"
   ]
  },
  {
   "cell_type": "code",
   "execution_count": 52,
   "metadata": {},
   "outputs": [
    {
     "name": "stdout",
     "output_type": "stream",
     "text": [
      "斜邊為2,對邊為1\n",
      "角度為30.00\n"
     ]
    }
   ],
   "source": [
    "import math        # 匯入 math 程式工具箱\n",
    "long = eval(input('請輸入斜邊值'))\n",
    "short = eval(input('請輸入對邊值'))\n",
    "\n",
    "radian = math.asin(short/long)  # math.asin 會傳出徑度(radian) \n",
    "angel = math.degrees(radian)    # math.degrees(x) 會傳出角度\n",
    "print(f'斜邊為{long},對邊為{short}')\n",
    "print(f'角度為{angel:.2f}')      #   :.2f "
   ]
  },
  {
   "cell_type": "code",
   "execution_count": 1,
   "metadata": {},
   "outputs": [
    {
     "data": {
      "text/plain": [
       "7.0"
      ]
     },
     "execution_count": 1,
     "metadata": {},
     "output_type": "execute_result"
    }
   ],
   "source": [
    "value1 = 0\n",
    "value1 += 0\n",
    "value1 += 5\n",
    "value1 += 9\n",
    "value1 += 14\n",
    "value1 / 4"
   ]
  },
  {
   "cell_type": "code",
   "execution_count": 2,
   "metadata": {},
   "outputs": [
    {
     "data": {
      "text/plain": [
       "7.0"
      ]
     },
     "execution_count": 2,
     "metadata": {},
     "output_type": "execute_result"
    }
   ],
   "source": [
    "value2 = 0\n",
    "value2 += 5\n",
    "value2 += 6\n",
    "value2 += 8\n",
    "value2 += 9\n",
    "value2 / 4"
   ]
  },
  {
   "cell_type": "code",
   "execution_count": 22,
   "metadata": {},
   "outputs": [
    {
     "name": "stdout",
     "output_type": "stream",
     "text": [
      "平均值1為:7\n",
      "標準差1為:5.9\n",
      "平均值2為:7\n",
      "標準差2為:1.8257418583505538\n"
     ]
    }
   ],
   "source": [
    "import statistics  #匯入統計工具箱\n",
    "平均值1 = statistics.mean({0,5,9,14}) #statistics.mean 平均\n",
    "標準差1 = statistics.stdev({0,5,9,14}) #statistics.stdev 標準差\n",
    "print(f'平均值1為:{平均值1}')\n",
    "print(f'標準差1為:{標準差1:.1f}')\n",
    "\n",
    "平均值2 = statistics.mean({5,6,8,9})\n",
    "標準差2 = statistics.stdev({5,6,8,9})\n",
    "print(f'平均值2為:{平均值2}')\n",
    "print(f'標準差2為:{標準差2}')"
   ]
  },
  {
   "cell_type": "code",
   "execution_count": 3,
   "metadata": {},
   "outputs": [
    {
     "name": "stdout",
     "output_type": "stream",
     "text": [
      "{True} {False} {True} {True} {True} {True}\n"
     ]
    }
   ],
   "source": [
    "#比較運算子 # > 為判斷前面的運算元是否大於後者. 是的話會得出true , 否的話則會得出false\n",
    "           # < 為判斷前面的運算元是否小於後者. 是的話會得出true , 否的話則會得出false\n",
    "           # <= 為判斷前面的運算元是否小於等於後者. 是的話會得出true , 否的話則會得出false\n",
    "           # >= 為判斷前面的運算元是否大於等於後者. 是的話會得出true , 否的話則會得出false\n",
    "           # == 為判斷前面的運算元是否等於後者. 是的話會得出true , 否的話則會得出false\n",
    "           # != 為判斷前面的運算元是否不等於後者. 是的話會得出true , 否的話則會得出false\n",
    "X1 = 3 < 5\n",
    "X2 = 3 > 5\n",
    "X3 = 3 <= 5\n",
    "X4 = 3 >= 3\n",
    "X5 = 3 == 3\n",
    "X6 = 3 != 5\n",
    "print({X1},{X2},{X3},{X4},{X5},{X6})  "
   ]
  },
  {
   "cell_type": "code",
   "execution_count": 5,
   "metadata": {},
   "outputs": [
    {
     "name": "stdout",
     "output_type": "stream",
     "text": [
      "A大於30\n",
      "end\n"
     ]
    }
   ],
   "source": [
    "A = 31\n",
    "if A > 30:            #當達到這個 A > 30時(true),執行下方程式\n",
    "    print('A大於30')  #注意縮排. \n",
    "print('end')          #因為這行不在if迴圈裏面,所以不管if成不成立,這行程式都會執行"
   ]
  },
  {
   "cell_type": "code",
   "execution_count": 9,
   "metadata": {},
   "outputs": [
    {
     "name": "stdout",
     "output_type": "stream",
     "text": [
      "你的價格低於99\n"
     ]
    }
   ],
   "source": [
    "price = eval(input('請輸入價格x:'))\n",
    "if price >= 99:\n",
    "    print('你的價格已經高達99')\n",
    "    print(f'你輸入的價格是{price}')\n",
    "else :\n",
    "    print('你的價格低於99')"
   ]
  },
  {
   "cell_type": "code",
   "execution_count": 27,
   "metadata": {},
   "outputs": [
    {
     "name": "stdout",
     "output_type": "stream",
     "text": [
      "這這個學生得分241.5\n",
      "四捨五入後得242\n"
     ]
    }
   ],
   "source": [
    "score = eval(input('輸入學生的分數:'))\n",
    "add = input('此學生是否能加分?(y , n)')\n",
    "if add == 'y':\n",
    "    score *= 1.05\n",
    "    print(f'這這個學生得分{score:.0f}')     # :.0f  將無條件進位\n",
    "    print(f'四捨五入後得{round(score)}')    # round() 將四捨五入\n",
    "else:\n",
    "    print(f'這個學生不能加分')"
   ]
  },
  {
   "cell_type": "code",
   "execution_count": 29,
   "metadata": {},
   "outputs": [
    {
     "name": "stdout",
     "output_type": "stream",
     "text": [
      "學生分數是300\n"
     ]
    }
   ],
   "source": [
    "#學生總分為300\n",
    "#要檢查學生輸入分數是<=300\n",
    "#有些學生可以加分5%\n",
    "#如果加分超過300,就以300分為準\n",
    "\n",
    "scores = int(input(\"請輸入學生分數(最高300分):\"))\n",
    "if scores <= 300:                                      # 當條件成立,才能執行if迴圈的程式\n",
    "    is_add = input(\"學生是否符合加分條件?(y,n)\")\n",
    "\n",
    "    if(is_add == \"y\"):                                 # 當條件成立,再往下執行回圈內程式\n",
    "        scores *= 1.05\n",
    "        if scores > 300:                               # 當條件成立,執行回圈內程式\n",
    "            scores = 300\n",
    "    print(f\"學生分數是{round(scores)}\")\n",
    "else:\n",
    "    print(\"學生分數不可以大於300\")\n",
    "\n",
    "#print(f\"學生分數是{scores:.0f}\")\n",
    "#print(f\"學生分數是{int(scores)}\")"
   ]
  }
 ],
 "metadata": {
  "kernelspec": {
   "display_name": "Python 3",
   "language": "python",
   "name": "python3"
  },
  "language_info": {
   "codemirror_mode": {
    "name": "ipython",
    "version": 3
   },
   "file_extension": ".py",
   "mimetype": "text/x-python",
   "name": "python",
   "nbconvert_exporter": "python",
   "pygments_lexer": "ipython3",
   "version": "3.10.13"
  }
 },
 "nbformat": 4,
 "nbformat_minor": 2
}
